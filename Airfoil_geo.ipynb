{
  "cells": [
    {
      "cell_type": "code",
      "execution_count": null,
      "id": "d73a9463",
      "metadata": {
        "id": "d73a9463"
      },
      "outputs": [],
      "source": [
        "###########################################\n",
        "PROJECT_NAME = 'Airfoil'\n",
        "###########################################"
      ]
    },
    {
      "cell_type": "code",
      "source": [
        "!pip install openai==0.28\n",
        "!apt-get install -y libglu1-mesa\n",
        "!pip install gmsh\n",
        "!pip install pyvista"
      ],
      "metadata": {
        "colab": {
          "base_uri": "https://localhost:8080/"
        },
        "id": "kU5J5ml6JCre",
        "outputId": "0fa4f70a-3749-49da-8477-c6133ca7bbeb"
      },
      "id": "kU5J5ml6JCre",
      "execution_count": null,
      "outputs": [
        {
          "output_type": "stream",
          "name": "stdout",
          "text": [
            "Requirement already satisfied: openai==0.28 in /usr/local/lib/python3.10/dist-packages (0.28.0)\n",
            "Requirement already satisfied: requests>=2.20 in /usr/local/lib/python3.10/dist-packages (from openai==0.28) (2.32.3)\n",
            "Requirement already satisfied: tqdm in /usr/local/lib/python3.10/dist-packages (from openai==0.28) (4.66.5)\n",
            "Requirement already satisfied: aiohttp in /usr/local/lib/python3.10/dist-packages (from openai==0.28) (3.10.5)\n",
            "Requirement already satisfied: charset-normalizer<4,>=2 in /usr/local/lib/python3.10/dist-packages (from requests>=2.20->openai==0.28) (3.3.2)\n",
            "Requirement already satisfied: idna<4,>=2.5 in /usr/local/lib/python3.10/dist-packages (from requests>=2.20->openai==0.28) (3.8)\n",
            "Requirement already satisfied: urllib3<3,>=1.21.1 in /usr/local/lib/python3.10/dist-packages (from requests>=2.20->openai==0.28) (2.0.7)\n",
            "Requirement already satisfied: certifi>=2017.4.17 in /usr/local/lib/python3.10/dist-packages (from requests>=2.20->openai==0.28) (2024.8.30)\n",
            "Requirement already satisfied: aiohappyeyeballs>=2.3.0 in /usr/local/lib/python3.10/dist-packages (from aiohttp->openai==0.28) (2.4.0)\n",
            "Requirement already satisfied: aiosignal>=1.1.2 in /usr/local/lib/python3.10/dist-packages (from aiohttp->openai==0.28) (1.3.1)\n",
            "Requirement already satisfied: attrs>=17.3.0 in /usr/local/lib/python3.10/dist-packages (from aiohttp->openai==0.28) (24.2.0)\n",
            "Requirement already satisfied: frozenlist>=1.1.1 in /usr/local/lib/python3.10/dist-packages (from aiohttp->openai==0.28) (1.4.1)\n",
            "Requirement already satisfied: multidict<7.0,>=4.5 in /usr/local/lib/python3.10/dist-packages (from aiohttp->openai==0.28) (6.0.5)\n",
            "Requirement already satisfied: yarl<2.0,>=1.0 in /usr/local/lib/python3.10/dist-packages (from aiohttp->openai==0.28) (1.9.4)\n",
            "Requirement already satisfied: async-timeout<5.0,>=4.0 in /usr/local/lib/python3.10/dist-packages (from aiohttp->openai==0.28) (4.0.3)\n",
            "Reading package lists... Done\n",
            "Building dependency tree... Done\n",
            "Reading state information... Done\n",
            "libglu1-mesa is already the newest version (9.0.2-1).\n",
            "0 upgraded, 0 newly installed, 0 to remove and 49 not upgraded.\n",
            "Requirement already satisfied: gmsh in /usr/local/lib/python3.10/dist-packages (4.13.1)\n",
            "Requirement already satisfied: pyvista in /usr/local/lib/python3.10/dist-packages (0.44.1)\n",
            "Requirement already satisfied: matplotlib>=3.0.1 in /usr/local/lib/python3.10/dist-packages (from pyvista) (3.7.1)\n",
            "Requirement already satisfied: numpy>=1.21.0 in /usr/local/lib/python3.10/dist-packages (from pyvista) (1.26.4)\n",
            "Requirement already satisfied: pillow in /usr/local/lib/python3.10/dist-packages (from pyvista) (9.4.0)\n",
            "Requirement already satisfied: pooch in /usr/local/lib/python3.10/dist-packages (from pyvista) (1.8.2)\n",
            "Requirement already satisfied: scooby>=0.5.1 in /usr/local/lib/python3.10/dist-packages (from pyvista) (0.10.0)\n",
            "Requirement already satisfied: vtk in /usr/local/lib/python3.10/dist-packages (from pyvista) (9.3.1)\n",
            "Requirement already satisfied: typing-extensions in /usr/local/lib/python3.10/dist-packages (from pyvista) (4.12.2)\n",
            "Requirement already satisfied: contourpy>=1.0.1 in /usr/local/lib/python3.10/dist-packages (from matplotlib>=3.0.1->pyvista) (1.3.0)\n",
            "Requirement already satisfied: cycler>=0.10 in /usr/local/lib/python3.10/dist-packages (from matplotlib>=3.0.1->pyvista) (0.12.1)\n",
            "Requirement already satisfied: fonttools>=4.22.0 in /usr/local/lib/python3.10/dist-packages (from matplotlib>=3.0.1->pyvista) (4.53.1)\n",
            "Requirement already satisfied: kiwisolver>=1.0.1 in /usr/local/lib/python3.10/dist-packages (from matplotlib>=3.0.1->pyvista) (1.4.5)\n",
            "Requirement already satisfied: packaging>=20.0 in /usr/local/lib/python3.10/dist-packages (from matplotlib>=3.0.1->pyvista) (24.1)\n",
            "Requirement already satisfied: pyparsing>=2.3.1 in /usr/local/lib/python3.10/dist-packages (from matplotlib>=3.0.1->pyvista) (3.1.4)\n",
            "Requirement already satisfied: python-dateutil>=2.7 in /usr/local/lib/python3.10/dist-packages (from matplotlib>=3.0.1->pyvista) (2.8.2)\n",
            "Requirement already satisfied: platformdirs>=2.5.0 in /usr/local/lib/python3.10/dist-packages (from pooch->pyvista) (4.2.2)\n",
            "Requirement already satisfied: requests>=2.19.0 in /usr/local/lib/python3.10/dist-packages (from pooch->pyvista) (2.32.3)\n",
            "Requirement already satisfied: six>=1.5 in /usr/local/lib/python3.10/dist-packages (from python-dateutil>=2.7->matplotlib>=3.0.1->pyvista) (1.16.0)\n",
            "Requirement already satisfied: charset-normalizer<4,>=2 in /usr/local/lib/python3.10/dist-packages (from requests>=2.19.0->pooch->pyvista) (3.3.2)\n",
            "Requirement already satisfied: idna<4,>=2.5 in /usr/local/lib/python3.10/dist-packages (from requests>=2.19.0->pooch->pyvista) (3.8)\n",
            "Requirement already satisfied: urllib3<3,>=1.21.1 in /usr/local/lib/python3.10/dist-packages (from requests>=2.19.0->pooch->pyvista) (2.0.7)\n",
            "Requirement already satisfied: certifi>=2017.4.17 in /usr/local/lib/python3.10/dist-packages (from requests>=2.19.0->pooch->pyvista) (2024.8.30)\n"
          ]
        }
      ]
    },
    {
      "cell_type": "code",
      "source": [
        "import openai\n",
        "import os"
      ],
      "metadata": {
        "id": "2v7bKEcpJoD-"
      },
      "id": "2v7bKEcpJoD-",
      "execution_count": null,
      "outputs": []
    },
    {
      "cell_type": "code",
      "source": [
        "openai.api_key =(\"\")"
      ],
      "metadata": {
        "id": "IkRy25lKJrYO"
      },
      "id": "IkRy25lKJrYO",
      "execution_count": null,
      "outputs": []
    },
    {
      "cell_type": "code",
      "execution_count": null,
      "id": "b6d0ac93",
      "metadata": {
        "id": "b6d0ac93"
      },
      "outputs": [],
      "source": [
        "# Global variables to keep track of the conversation\n",
        "conversation_history = []\n",
        "last_response = None\n",
        "\n",
        "# Read the system message once and append to history\n",
        "with open(\"system_geo.txt\", 'r') as file:\n",
        "    system_message = file.read().strip()\n",
        "conversation_history.append({\"role\": \"system\", \"content\": system_message})"
      ]
    },
    {
      "cell_type": "code",
      "source": [
        "# Function to interact with OpenAI's API\n",
        "def chat_with_bot(user_message):\n",
        "    global last_response\n",
        "    # Add the user input to the conversation history\n",
        "    conversation_history.append({\"role\": \"user\", \"content\": user_message})\n",
        "\n",
        "    # Call the updated OpenAI API (correct method)\n",
        "    response = openai.ChatCompletion.create(\n",
        "        model=\"gpt-4\",  # You can choose the model here (e.g., gpt-4, gpt-3.5-turbo)\n",
        "        messages=conversation_history,\n",
        "        temperature=0\n",
        "    )\n",
        "\n",
        "    # Extract the model's response\n",
        "    model_response = response['choices'][0]['message']['content']\n",
        "\n",
        "    # Update the last response\n",
        "    last_response = model_response\n",
        "\n",
        "    # Append the model's response to the conversation history\n",
        "    conversation_history.append({\"role\": \"assistant\", \"content\": model_response})\n",
        "\n",
        "    # Print the model's response\n",
        "    print(model_response)"
      ],
      "metadata": {
        "id": "e-nB1jSzLRef"
      },
      "id": "e-nB1jSzLRef",
      "execution_count": null,
      "outputs": []
    },
    {
      "cell_type": "code",
      "source": [
        "# Function to save the response as a .geo file\n",
        "def extract_and_save_geo_file(response_text):\n",
        "    file_path = f\"CFD_airfoil.geo\"\n",
        "    try:\n",
        "        with open(file_path, 'w') as geo_file:\n",
        "            geo_file.write(response_text)\n",
        "        print(f\"{file_path} file saved\")\n",
        "        print(\"Visualize .geo files with GMSH\")\n",
        "    except Exception as e:\n",
        "        print(f\"Error saving the file: {e}\")"
      ],
      "metadata": {
        "id": "u6JwcU6RLnhA"
      },
      "id": "u6JwcU6RLnhA",
      "execution_count": null,
      "outputs": []
    },
    {
      "cell_type": "code",
      "execution_count": null,
      "id": "1b692064",
      "metadata": {
        "id": "1b692064"
      },
      "outputs": [],
      "source": [
        "#FUNCTIONS FROM CREATING THE MESH ONCE THE .GEO FILE\n",
        "import gmsh\n",
        "\n",
        "def generate_mesh(Mesh_Min_Size, Mesh_Max_Size):\n",
        "    print(\"Creating MESH...\\n \")\n",
        "    try:\n",
        "        current_directory = os.getcwd()\n",
        "        input_geo_file = os.path.join(current_directory, f'CFD_airfoil.geo')\n",
        "        output_msh_file = os.path.join(current_directory, f'CFD_airfoil.msh')\n",
        "        # Initialize gmsh\n",
        "        gmsh.initialize()\n",
        "        # Open the .geo file\n",
        "        gmsh.open(input_geo_file)\n",
        "        gmsh.option.setNumber(\"Mesh.CharacteristicLengthMin\", Mesh_Min_Size)\n",
        "        gmsh.option.setNumber(\"Mesh.CharacteristicLengthMax\", Mesh_Max_Size)\n",
        "        # Generate the mesh using default settings\n",
        "        gmsh.model.mesh.generate(3)\n",
        "        # Save the mesh to a .msh file\n",
        "        gmsh.write(output_msh_file)\n",
        "        # Finalize gmsh\n",
        "        gmsh.finalize()\n",
        "        print(f\"CFD_airfoil.msh saved\")\n",
        "        print(\"You can visualize .msh files with GMSH, Paraview or, within this notebook, with plot_grid()\")\n",
        "    except ValueError as e:\n",
        "        print(f\"ERROR: MESH NOT CREATED.\")\n",
        "\n",
        "#(optional)\n",
        "import pyvista as pv\n",
        "\n",
        "def plot_grid(output_msh_file):\n",
        "    # Read mesh file\n",
        "    mesh = pv.read(output_msh_file)\n",
        "    # Set the Jupyter backend to 'static'\n",
        "    pv.set_jupyter_backend('static')\n",
        "    # Plot the mesh\n",
        "    plotter = pv.Plotter(notebook=True)\n",
        "    plotter.add_mesh(mesh, show_edges=True)\n",
        "    plotter.show()"
      ]
    },
    {
      "cell_type": "code",
      "execution_count": null,
      "id": "a844dc1a",
      "metadata": {
        "id": "a844dc1a"
      },
      "outputs": [],
      "source": [
        "############ INSTRUCTIONS #######################\n",
        "# Chat with model with chat_with_bot(\"...\"),\n",
        "# when you are satisfied save the .geo file with\n",
        "# extract_and_save_geo_file(last_response) and\n",
        "# visualize it with gmsh software.\n",
        "# Create mesh with generate_mesh() and\n",
        "# visualize it with gmsh, Paraview, or\n",
        "# plot_grid(msh_file) for quick visualization\n",
        "###############################################"
      ]
    },
    {
      "cell_type": "code",
      "execution_count": null,
      "id": "fae692e1",
      "metadata": {
        "colab": {
          "base_uri": "https://localhost:8080/"
        },
        "id": "fae692e1",
        "outputId": "66f67cb1-2230-4a5a-8979-033e3f6f0fee"
      },
      "outputs": [
        {
          "output_type": "stream",
          "name": "stdout",
          "text": [
            "Sure, I can help you with that. Could you please provide me with the type of airfoil (e.g., NACA profile) and the chord length?\n"
          ]
        }
      ],
      "source": [
        "chat_with_bot(\"\"\"Can you help me create an airfoil?\n",
        "\"\"\")"
      ]
    },
    {
      "cell_type": "code",
      "execution_count": null,
      "id": "4f2ea189",
      "metadata": {
        "colab": {
          "base_uri": "https://localhost:8080/"
        },
        "id": "4f2ea189",
        "outputId": "d7375977-a4d1-40ee-8381-b1a4ce7876e4"
      },
      "outputs": [
        {
          "output_type": "stream",
          "name": "stdout",
          "text": [
            "Great! Now, could you please provide me with the coordinates for the airfoil shape? These coordinates will be used to define the points for the airfoil.\n"
          ]
        }
      ],
      "source": [
        "chat_with_bot(\"The type of the airfoil is NACA 0012 and the chord length is 2m\")"
      ]
    },
    {
      "cell_type": "code",
      "source": [
        "chat_with_bot(\"(0.0000, 0.0000, 0.0000), (0.0020, 0.0163, -0.0163), (0.0040, 0.0230, -0.0230), (0.0080, 0.0324, -0.0324), (0.0120, 0.0390, -0.0390), (0.0200, 0.0505, -0.0505), (0.0400, 0.0664, -0.0664), (0.0600, 0.0787, -0.0787), (0.0800, 0.0884, -0.0884), (0.1000, 0.0963, -0.0963), (0.2000, 0.1321, -0.1321), (0.3000, 0.1499, -0.1499), (0.4000, 0.1568, -0.1568), (0.5000, 0.1569, -0.1569), (0.6000, 0.1506, -0.1506), (0.7000, 0.1365, -0.1365), (0.8000, 0.1135, -0.1135), (0.9000, 0.0796, -0.0796), (1.0000, 0.0000, 0.0000)\")"
      ],
      "metadata": {
        "colab": {
          "base_uri": "https://localhost:8080/"
        },
        "id": "QGnqFpkRg80H",
        "outputId": "5d83169f-75df-4b45-a43b-e412cc8e0bb1"
      },
      "id": "QGnqFpkRg80H",
      "execution_count": null,
      "outputs": [
        {
          "output_type": "stream",
          "name": "stdout",
          "text": [
            "Thank you for providing the coordinates. Now, let's create the .geo file for your airfoil.\n",
            "\n",
            "//BEGIN_GEO\n",
            "lc = 0.01;\n",
            "\n",
            "// Points definition\n",
            "Point(1) = {0.0000, 0.0000, 0.0000, lc};\n",
            "Point(2) = {0.0020, 0.0163, 0.0000, lc};\n",
            "Point(3) = {0.0040, 0.0230, 0.0000, lc};\n",
            "Point(4) = {0.0080, 0.0324, 0.0000, lc};\n",
            "Point(5) = {0.0120, 0.0390, 0.0000, lc};\n",
            "Point(6) = {0.0200, 0.0505, 0.0000, lc};\n",
            "Point(7) = {0.0400, 0.0664, 0.0000, lc};\n",
            "Point(8) = {0.0600, 0.0787, 0.0000, lc};\n",
            "Point(9) = {0.0800, 0.0884, 0.0000, lc};\n",
            "Point(10) = {0.1000, 0.0963, 0.0000, lc};\n",
            "Point(11) = {0.2000, 0.1321, 0.0000, lc};\n",
            "Point(12) = {0.3000, 0.1499, 0.0000, lc};\n",
            "Point(13) = {0.4000, 0.1568, 0.0000, lc};\n",
            "Point(14) = {0.5000, 0.1569, 0.0000, lc};\n",
            "Point(15) = {0.6000, 0.1506, 0.0000, lc};\n",
            "Point(16) = {0.7000, 0.1365, 0.0000, lc};\n",
            "Point(17) = {0.8000, 0.1135, 0.0000, lc};\n",
            "Point(18) = {0.9000, 0.0796, 0.0000, lc};\n",
            "Point(19) = {1.0000, 0.0000, 0.0000, lc};\n",
            "\n",
            "// Airfoil contour\n",
            "Spline(1) = {1, 2, 3, 4, 5, 6, 7, 8, 9, 10, 11, 12, 13, 14, 15, 16, 17, 18, 19};\n",
            "\n",
            "// Airfoil surface\n",
            "Line Loop(1) = {1};\n",
            "Plane Surface(1) = {1};\n",
            "\n",
            "// Physical groups\n",
            "Physical Surface(\"Airfoil\") = {1};\n",
            "\n",
            "// Mesh refinement\n",
            "Characteristic Length {1, 2, 3, 4, 5, 6, 7, 8, 9, 10, 11, 12, 13, 14, 15, 16, 17, 18, 19} = lc;\n",
            "//END_GEO\n",
            "\n",
            "Please note that this is a 2D representation of the airfoil. If you want a 3D representation, you will need to extrude the airfoil into the third dimension. Also, the mesh refinement is set to a characteristic length (lc) of 0.01. You can adjust this value to refine the mesh as needed.\n"
          ]
        }
      ]
    },
    {
      "cell_type": "code",
      "execution_count": null,
      "id": "09ceab11",
      "metadata": {
        "colab": {
          "base_uri": "https://localhost:8080/"
        },
        "id": "09ceab11",
        "outputId": "218f55f3-a957-451e-bc33-6c92041d00a6"
      },
      "outputs": [
        {
          "output_type": "stream",
          "name": "stdout",
          "text": [
            "CFD_airfoil.geo file saved\n",
            "Visualize .geo files with GMSH\n"
          ]
        }
      ],
      "source": [
        "extract_and_save_geo_file(last_response)"
      ]
    },
    {
      "cell_type": "code",
      "execution_count": null,
      "id": "2b30ed19",
      "metadata": {
        "colab": {
          "base_uri": "https://localhost:8080/"
        },
        "id": "2b30ed19",
        "outputId": "da68a8ae-fe31-4f68-e822-146dedb0b15d"
      },
      "outputs": [
        {
          "output_type": "stream",
          "name": "stdout",
          "text": [
            "Creating MESH...\n",
            " \n",
            "CFD_Pipe.msh saved\n",
            "You can visualize .msh files with GMSH, Paraview or, within this notebook, with plot_grid()\n"
          ]
        }
      ],
      "source": [
        "generate_mesh(Mesh_Min_Size = 0.03, Mesh_Max_Size = 0.2)"
      ]
    }
  ],
  "metadata": {
    "kernelspec": {
      "display_name": "Python 3 (ipykernel)",
      "language": "python",
      "name": "python3"
    },
    "language_info": {
      "codemirror_mode": {
        "name": "ipython",
        "version": 3
      },
      "file_extension": ".py",
      "mimetype": "text/x-python",
      "name": "python",
      "nbconvert_exporter": "python",
      "pygments_lexer": "ipython3",
      "version": "3.11.5"
    },
    "colab": {
      "provenance": []
    }
  },
  "nbformat": 4,
  "nbformat_minor": 5
}