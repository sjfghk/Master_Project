{
  "cells": [
    {
      "cell_type": "code",
      "execution_count": null,
      "id": "d73a9463",
      "metadata": {
        "id": "d73a9463"
      },
      "outputs": [],
      "source": [
        "###########################################\n",
        "PROJECT_NAME = 'CFD_Pipe'\n",
        "###########################################"
      ]
    },
    {
      "cell_type": "code",
      "source": [
        "!pip install openai==0.28\n",
        "!apt-get install -y libglu1-mesa\n",
        "!pip install gmsh\n",
        "!pip install pyvista"
      ],
      "metadata": {
        "colab": {
          "base_uri": "https://localhost:8080/"
        },
        "id": "kU5J5ml6JCre",
        "outputId": "0fa4f70a-3749-49da-8477-c6133ca7bbeb"
      },
      "id": "kU5J5ml6JCre",
      "execution_count": null,
      "outputs": [
        {
          "output_type": "stream",
          "name": "stdout",
          "text": [
            "Requirement already satisfied: openai==0.28 in /usr/local/lib/python3.10/dist-packages (0.28.0)\n",
            "Requirement already satisfied: requests>=2.20 in /usr/local/lib/python3.10/dist-packages (from openai==0.28) (2.32.3)\n",
            "Requirement already satisfied: tqdm in /usr/local/lib/python3.10/dist-packages (from openai==0.28) (4.66.5)\n",
            "Requirement already satisfied: aiohttp in /usr/local/lib/python3.10/dist-packages (from openai==0.28) (3.10.5)\n",
            "Requirement already satisfied: charset-normalizer<4,>=2 in /usr/local/lib/python3.10/dist-packages (from requests>=2.20->openai==0.28) (3.3.2)\n",
            "Requirement already satisfied: idna<4,>=2.5 in /usr/local/lib/python3.10/dist-packages (from requests>=2.20->openai==0.28) (3.8)\n",
            "Requirement already satisfied: urllib3<3,>=1.21.1 in /usr/local/lib/python3.10/dist-packages (from requests>=2.20->openai==0.28) (2.0.7)\n",
            "Requirement already satisfied: certifi>=2017.4.17 in /usr/local/lib/python3.10/dist-packages (from requests>=2.20->openai==0.28) (2024.8.30)\n",
            "Requirement already satisfied: aiohappyeyeballs>=2.3.0 in /usr/local/lib/python3.10/dist-packages (from aiohttp->openai==0.28) (2.4.0)\n",
            "Requirement already satisfied: aiosignal>=1.1.2 in /usr/local/lib/python3.10/dist-packages (from aiohttp->openai==0.28) (1.3.1)\n",
            "Requirement already satisfied: attrs>=17.3.0 in /usr/local/lib/python3.10/dist-packages (from aiohttp->openai==0.28) (24.2.0)\n",
            "Requirement already satisfied: frozenlist>=1.1.1 in /usr/local/lib/python3.10/dist-packages (from aiohttp->openai==0.28) (1.4.1)\n",
            "Requirement already satisfied: multidict<7.0,>=4.5 in /usr/local/lib/python3.10/dist-packages (from aiohttp->openai==0.28) (6.0.5)\n",
            "Requirement already satisfied: yarl<2.0,>=1.0 in /usr/local/lib/python3.10/dist-packages (from aiohttp->openai==0.28) (1.9.4)\n",
            "Requirement already satisfied: async-timeout<5.0,>=4.0 in /usr/local/lib/python3.10/dist-packages (from aiohttp->openai==0.28) (4.0.3)\n",
            "Reading package lists... Done\n",
            "Building dependency tree... Done\n",
            "Reading state information... Done\n",
            "libglu1-mesa is already the newest version (9.0.2-1).\n",
            "0 upgraded, 0 newly installed, 0 to remove and 49 not upgraded.\n",
            "Requirement already satisfied: gmsh in /usr/local/lib/python3.10/dist-packages (4.13.1)\n",
            "Requirement already satisfied: pyvista in /usr/local/lib/python3.10/dist-packages (0.44.1)\n",
            "Requirement already satisfied: matplotlib>=3.0.1 in /usr/local/lib/python3.10/dist-packages (from pyvista) (3.7.1)\n",
            "Requirement already satisfied: numpy>=1.21.0 in /usr/local/lib/python3.10/dist-packages (from pyvista) (1.26.4)\n",
            "Requirement already satisfied: pillow in /usr/local/lib/python3.10/dist-packages (from pyvista) (9.4.0)\n",
            "Requirement already satisfied: pooch in /usr/local/lib/python3.10/dist-packages (from pyvista) (1.8.2)\n",
            "Requirement already satisfied: scooby>=0.5.1 in /usr/local/lib/python3.10/dist-packages (from pyvista) (0.10.0)\n",
            "Requirement already satisfied: vtk in /usr/local/lib/python3.10/dist-packages (from pyvista) (9.3.1)\n",
            "Requirement already satisfied: typing-extensions in /usr/local/lib/python3.10/dist-packages (from pyvista) (4.12.2)\n",
            "Requirement already satisfied: contourpy>=1.0.1 in /usr/local/lib/python3.10/dist-packages (from matplotlib>=3.0.1->pyvista) (1.3.0)\n",
            "Requirement already satisfied: cycler>=0.10 in /usr/local/lib/python3.10/dist-packages (from matplotlib>=3.0.1->pyvista) (0.12.1)\n",
            "Requirement already satisfied: fonttools>=4.22.0 in /usr/local/lib/python3.10/dist-packages (from matplotlib>=3.0.1->pyvista) (4.53.1)\n",
            "Requirement already satisfied: kiwisolver>=1.0.1 in /usr/local/lib/python3.10/dist-packages (from matplotlib>=3.0.1->pyvista) (1.4.5)\n",
            "Requirement already satisfied: packaging>=20.0 in /usr/local/lib/python3.10/dist-packages (from matplotlib>=3.0.1->pyvista) (24.1)\n",
            "Requirement already satisfied: pyparsing>=2.3.1 in /usr/local/lib/python3.10/dist-packages (from matplotlib>=3.0.1->pyvista) (3.1.4)\n",
            "Requirement already satisfied: python-dateutil>=2.7 in /usr/local/lib/python3.10/dist-packages (from matplotlib>=3.0.1->pyvista) (2.8.2)\n",
            "Requirement already satisfied: platformdirs>=2.5.0 in /usr/local/lib/python3.10/dist-packages (from pooch->pyvista) (4.2.2)\n",
            "Requirement already satisfied: requests>=2.19.0 in /usr/local/lib/python3.10/dist-packages (from pooch->pyvista) (2.32.3)\n",
            "Requirement already satisfied: six>=1.5 in /usr/local/lib/python3.10/dist-packages (from python-dateutil>=2.7->matplotlib>=3.0.1->pyvista) (1.16.0)\n",
            "Requirement already satisfied: charset-normalizer<4,>=2 in /usr/local/lib/python3.10/dist-packages (from requests>=2.19.0->pooch->pyvista) (3.3.2)\n",
            "Requirement already satisfied: idna<4,>=2.5 in /usr/local/lib/python3.10/dist-packages (from requests>=2.19.0->pooch->pyvista) (3.8)\n",
            "Requirement already satisfied: urllib3<3,>=1.21.1 in /usr/local/lib/python3.10/dist-packages (from requests>=2.19.0->pooch->pyvista) (2.0.7)\n",
            "Requirement already satisfied: certifi>=2017.4.17 in /usr/local/lib/python3.10/dist-packages (from requests>=2.19.0->pooch->pyvista) (2024.8.30)\n"
          ]
        }
      ]
    },
    {
      "cell_type": "code",
      "source": [
        "import openai\n",
        "import os"
      ],
      "metadata": {
        "id": "2v7bKEcpJoD-"
      },
      "id": "2v7bKEcpJoD-",
      "execution_count": null,
      "outputs": []
    },
    {
      "cell_type": "code",
      "source": [
        "openai.api_key =(\"Input key here\")"
      ],
      "metadata": {
        "id": "IkRy25lKJrYO"
      },
      "id": "IkRy25lKJrYO",
      "execution_count": null,
      "outputs": []
    },
    {
      "cell_type": "code",
      "execution_count": null,
      "id": "b6d0ac93",
      "metadata": {
        "id": "b6d0ac93"
      },
      "outputs": [],
      "source": [
        "# Global variables to keep track of the conversation\n",
        "conversation_history = []\n",
        "last_response = None\n",
        "\n",
        "# Read the system message once and append to history\n",
        "with open(\"system_geo.txt\", 'r') as file:\n",
        "    system_message = file.read().strip()\n",
        "conversation_history.append({\"role\": \"system\", \"content\": system_message})"
      ]
    },
    {
      "cell_type": "code",
      "source": [
        "# Function to interact with OpenAI's API\n",
        "def chat_with_bot(user_message):\n",
        "    global last_response\n",
        "    # Add the user input to the conversation history\n",
        "    conversation_history.append({\"role\": \"user\", \"content\": user_message})\n",
        "\n",
        "    # Call the updated OpenAI API (correct method)\n",
        "    response = openai.ChatCompletion.create(\n",
        "        model=\"gpt-4\",  # You can choose the model here (e.g., gpt-4, gpt-3.5-turbo)\n",
        "        messages=conversation_history,\n",
        "        temperature=0\n",
        "    )\n",
        "\n",
        "    # Extract the model's response\n",
        "    model_response = response['choices'][0]['message']['content']\n",
        "\n",
        "    # Update the last response\n",
        "    last_response = model_response\n",
        "\n",
        "    # Append the model's response to the conversation history\n",
        "    conversation_history.append({\"role\": \"assistant\", \"content\": model_response})\n",
        "\n",
        "    # Print the model's response\n",
        "    print(model_response)"
      ],
      "metadata": {
        "id": "e-nB1jSzLRef"
      },
      "id": "e-nB1jSzLRef",
      "execution_count": null,
      "outputs": []
    },
    {
      "cell_type": "code",
      "source": [
        "# Function to save the response as a .geo file\n",
        "def extract_and_save_geo_file(response_text):\n",
        "    file_path = f\"CFD_Pipe.geo\"\n",
        "    try:\n",
        "        with open(file_path, 'w') as geo_file:\n",
        "            geo_file.write(response_text)\n",
        "        print(f\"{file_path} file saved\")\n",
        "        print(\"Visualize .geo files with GMSH\")\n",
        "    except Exception as e:\n",
        "        print(f\"Error saving the file: {e}\")"
      ],
      "metadata": {
        "id": "u6JwcU6RLnhA"
      },
      "id": "u6JwcU6RLnhA",
      "execution_count": null,
      "outputs": []
    },
    {
      "cell_type": "code",
      "execution_count": null,
      "id": "1b692064",
      "metadata": {
        "id": "1b692064"
      },
      "outputs": [],
      "source": [
        "#FUNCTIONS FROM CREATING THE MESH ONCE THE .GEO FILE\n",
        "import gmsh\n",
        "\n",
        "def generate_mesh(Mesh_Min_Size, Mesh_Max_Size):\n",
        "    print(\"Creating MESH...\\n \")\n",
        "    try:\n",
        "        current_directory = os.getcwd()\n",
        "        input_geo_file = os.path.join(current_directory, f'CFD_Pipe.geo')\n",
        "        output_msh_file = os.path.join(current_directory, f'CFD_Pipe.msh')\n",
        "        # Initialize gmsh\n",
        "        gmsh.initialize()\n",
        "        # Open the .geo file\n",
        "        gmsh.open(input_geo_file)\n",
        "        gmsh.option.setNumber(\"Mesh.CharacteristicLengthMin\", Mesh_Min_Size)\n",
        "        gmsh.option.setNumber(\"Mesh.CharacteristicLengthMax\", Mesh_Max_Size)\n",
        "        # Generate the mesh using default settings\n",
        "        gmsh.model.mesh.generate(3)\n",
        "        # Save the mesh to a .msh file\n",
        "        gmsh.write(output_msh_file)\n",
        "        # Finalize gmsh\n",
        "        gmsh.finalize()\n",
        "        print(f\"CFD_Pipe.msh saved\")\n",
        "        print(\"You can visualize .msh files with GMSH, Paraview or, within this notebook, with plot_grid()\")\n",
        "    except ValueError as e:\n",
        "        print(f\"ERROR: MESH NOT CREATED.\")\n",
        "\n",
        "#(optional)\n",
        "import pyvista as pv\n",
        "\n",
        "def plot_grid(output_msh_file):\n",
        "    # Read mesh file\n",
        "    mesh = pv.read(output_msh_file)\n",
        "    # Set the Jupyter backend to 'static'\n",
        "    pv.set_jupyter_backend('static')\n",
        "    # Plot the mesh\n",
        "    plotter = pv.Plotter(notebook=True)\n",
        "    plotter.add_mesh(mesh, show_edges=True)\n",
        "    plotter.show()"
      ]
    },
    {
      "cell_type": "code",
      "execution_count": null,
      "id": "a844dc1a",
      "metadata": {
        "id": "a844dc1a"
      },
      "outputs": [],
      "source": [
        "############ INSTRUCTIONS #######################\n",
        "# Chat with model with chat_with_bot(\"...\"),\n",
        "# when you are satisfied save the .geo file with\n",
        "# extract_and_save_geo_file(last_response) and\n",
        "# visualize it with gmsh software.\n",
        "# Create mesh with generate_mesh() and\n",
        "# visualize it with gmsh, Paraview, or\n",
        "# plot_grid(msh_file) for quick visualization\n",
        "###############################################"
      ]
    },
    {
      "cell_type": "code",
      "execution_count": null,
      "id": "fae692e1",
      "metadata": {
        "colab": {
          "base_uri": "https://localhost:8080/"
        },
        "id": "fae692e1",
        "outputId": "0329e551-9671-4b32-e852-80b9691d2f55"
      },
      "outputs": [
        {
          "output_type": "stream",
          "name": "stdout",
          "text": [
            "Sure, I will need some more information to create the .geo file for the pipe. Could you please provide the length and radius of the pipe?\n"
          ]
        }
      ],
      "source": [
        "chat_with_bot(\"\"\"Create a pipe. The axis of the bar is parallel to the z axis\n",
        "\"\"\")"
      ]
    },
    {
      "cell_type": "code",
      "execution_count": null,
      "id": "4f2ea189",
      "metadata": {
        "colab": {
          "base_uri": "https://localhost:8080/"
        },
        "id": "4f2ea189",
        "outputId": "5ce4855c-6481-461a-e905-b4b720b1206b"
      },
      "outputs": [
        {
          "output_type": "stream",
          "name": "stdout",
          "text": [
            "Great! Here is the .geo file for a straight pipe with a length of 6 meters and a radius of 30.165 mm.\n",
            "\n",
            "//BEGIN_GEO\n",
            "lc = 1; // characteristic length\n",
            "Length = 6; // length of the pipe\n",
            "Radius = 0.030165; // radius of the pipe\n",
            "\n",
            "// Define the points\n",
            "Point(1) = {0, 0, 0, lc}; // inlet\n",
            "Point(2) = {0, 0, Length, lc}; // outlet\n",
            "\n",
            "// Define the lines\n",
            "Line(1) = {1, 2}; // pipe\n",
            "\n",
            "// Define the surfaces\n",
            "Line Loop(1) = {1};\n",
            "Plane Surface(1) = {1}; // pipe wall\n",
            "\n",
            "// Define the volume\n",
            "Surface Loop(1) = {1};\n",
            "Volume(1) = {1}; // fluid volume inside the pipe\n",
            "\n",
            "// Define physical groups\n",
            "Physical Surface(\"Inlet\") = {1};\n",
            "Physical Surface(\"Outlet\") = {2};\n",
            "Physical Surface(\"Wall\") = {1};\n",
            "Physical Volume(\"FluidDomain\") = {1};\n",
            "//END_GEO\n"
          ]
        }
      ],
      "source": [
        "chat_with_bot(\"The length of pipe is 6m and the radius is 30.165 mm\")"
      ]
    },
    {
      "cell_type": "code",
      "source": [
        "chat_with_bot(\"You didnt ask me if the simulation is 2D or 3D\")"
      ],
      "metadata": {
        "colab": {
          "base_uri": "https://localhost:8080/"
        },
        "id": "QGnqFpkRg80H",
        "outputId": "f851a759-5c33-4724-9573-53a3d6bb738a"
      },
      "id": "QGnqFpkRg80H",
      "execution_count": null,
      "outputs": [
        {
          "output_type": "stream",
          "name": "stdout",
          "text": [
            "I apologize for the oversight. Could you please specify whether the simulation is 2D or 3D?\n"
          ]
        }
      ]
    },
    {
      "cell_type": "code",
      "source": [
        "chat_with_bot(\"The simulation is 3D\")"
      ],
      "metadata": {
        "colab": {
          "base_uri": "https://localhost:8080/"
        },
        "id": "9aH0q9jYhHQb",
        "outputId": "78b5d122-a65c-4cef-eb83-cd5c413f2df0"
      },
      "id": "9aH0q9jYhHQb",
      "execution_count": null,
      "outputs": [
        {
          "output_type": "stream",
          "name": "stdout",
          "text": [
            "Thank you for the clarification. Here is the revised .geo file for a 3D pipe with a length of 6 meters and a radius of 30.165 mm.\n",
            "\n",
            "//BEGIN_GEO\n",
            "lc = 1; // characteristic length\n",
            "Length = 6; // length of the pipe\n",
            "Radius = 0.030165; // radius of the pipe\n",
            "\n",
            "// Define the points\n",
            "Point(1) = {0, 0, 0, lc}; // inlet\n",
            "Point(2) = {0, 0, Length, lc}; // outlet\n",
            "\n",
            "// Define the lines\n",
            "Line(1) = {1, 2}; // pipe\n",
            "\n",
            "// Define the surfaces\n",
            "Circle(1) = {1, 2, Radius}; // pipe wall\n",
            "Line Loop(1) = {1};\n",
            "Ruled Surface(1) = {1}; // pipe wall\n",
            "\n",
            "// Define the volume\n",
            "Surface Loop(1) = {1};\n",
            "Volume(1) = {1}; // fluid volume inside the pipe\n",
            "\n",
            "// Define physical groups\n",
            "Physical Surface(\"Inlet\") = {1};\n",
            "Physical Surface(\"Outlet\") = {2};\n",
            "Physical Surface(\"Wall\") = {1};\n",
            "Physical Volume(\"FluidDomain\") = {1};\n",
            "//END_GEO\n"
          ]
        }
      ]
    },
    {
      "cell_type": "code",
      "source": [
        "chat_with_bot(\"The simulation shows alot of errors :Error   : Line with less than 2 control points\")"
      ],
      "metadata": {
        "colab": {
          "base_uri": "https://localhost:8080/"
        },
        "id": "s5jU5Shziv0d",
        "outputId": "a8d71b27-d348-42a6-979d-cbeca6b34994"
      },
      "id": "s5jU5Shziv0d",
      "execution_count": null,
      "outputs": [
        {
          "output_type": "stream",
          "name": "stdout",
          "text": [
            "I apologize for the confusion. The error is due to the incorrect definition of the pipe's geometry. In a 3D simulation, we need to define the pipe as a cylindrical surface rather than a line. Here is the corrected .geo file:\n",
            "\n",
            "//BEGIN_GEO\n",
            "lc = 1; // characteristic length\n",
            "Length = 6; // length of the pipe\n",
            "Radius = 0.030165; // radius of the pipe\n",
            "\n",
            "// Define the points\n",
            "Point(1) = {0, 0, 0, lc}; // inlet\n",
            "Point(2) = {0, 0, Length, lc}; // outlet\n",
            "Point(3) = {Radius, 0, 0, lc}; // point on the pipe wall at inlet\n",
            "Point(4) = {Radius, 0, Length, lc}; // point on the pipe wall at outlet\n",
            "\n",
            "// Define the lines\n",
            "Circle(1) = {1, 3, 2}; // pipe wall at inlet\n",
            "Circle(2) = {3, 4, 2}; // pipe wall at outlet\n",
            "Line(3) = {3, 4}; // pipe wall\n",
            "\n",
            "// Define the surfaces\n",
            "Line Loop(1) = {1, -2, 3};\n",
            "Ruled Surface(1) = {1}; // pipe wall\n",
            "\n",
            "// Define the volume\n",
            "Surface Loop(1) = {1};\n",
            "Volume(1) = {1}; // fluid volume inside the pipe\n",
            "\n",
            "// Define physical groups\n",
            "Physical Surface(\"Inlet\") = {1};\n",
            "Physical Surface(\"Outlet\") = {2};\n",
            "Physical Surface(\"Wall\") = {1};\n",
            "Physical Volume(\"FluidDomain\") = {1};\n",
            "//END_GEO\n"
          ]
        }
      ]
    },
    {
      "cell_type": "code",
      "source": [
        "chat_with_bot(\"Error   : Circle or ellipse with less than 2 control points\")"
      ],
      "metadata": {
        "colab": {
          "base_uri": "https://localhost:8080/"
        },
        "id": "WlClxpJjjh7Q",
        "outputId": "b2817cb4-5318-44ab-c574-e64d4fc0414b"
      },
      "id": "WlClxpJjjh7Q",
      "execution_count": null,
      "outputs": [
        {
          "output_type": "stream",
          "name": "stdout",
          "text": [
            "I apologize for the confusion. The error is due to the incorrect definition of the pipe's geometry. In a 3D simulation, we need to define the pipe as a cylindrical surface rather than a line. Here is the corrected .geo file:\n",
            "\n",
            "//BEGIN_GEO\n",
            "lc = 1; // characteristic length\n",
            "Length = 6; // length of the pipe\n",
            "Radius = 0.030165; // radius of the pipe\n",
            "\n",
            "// Define the points\n",
            "Point(1) = {0, 0, 0, lc}; // inlet center\n",
            "Point(2) = {0, 0, Length, lc}; // outlet center\n",
            "Point(3) = {Radius, 0, 0, lc}; // point on the pipe wall at inlet\n",
            "Point(4) = {Radius, 0, Length, lc}; // point on the pipe wall at outlet\n",
            "\n",
            "// Define the lines\n",
            "Circle(1) = {1, 3, 4}; // pipe wall\n",
            "Line(2) = {3, 4}; // pipe axis\n",
            "\n",
            "// Define the surfaces\n",
            "Line Loop(1) = {1, 2};\n",
            "Ruled Surface(1) = {1}; // pipe wall\n",
            "\n",
            "// Define the volume\n",
            "Surface Loop(1) = {1};\n",
            "Volume(1) = {1}; // fluid volume inside the pipe\n",
            "\n",
            "// Define physical groups\n",
            "Physical Surface(\"Inlet\") = {1};\n",
            "Physical Surface(\"Outlet\") = {2};\n",
            "Physical Surface(\"Wall\") = {1};\n",
            "Physical Volume(\"FluidDomain\") = {1};\n",
            "//END_GEO\n"
          ]
        }
      ]
    },
    {
      "cell_type": "code",
      "source": [
        "chat_with_bot(\"The simulation shows alot of errors :Error   : Line with less than 2 control points\")"
      ],
      "metadata": {
        "colab": {
          "base_uri": "https://localhost:8080/"
        },
        "id": "3krj5fQHkERf",
        "outputId": "7742f404-f546-41df-f139-4bbbabe76b10"
      },
      "id": "3krj5fQHkERf",
      "execution_count": null,
      "outputs": [
        {
          "output_type": "stream",
          "name": "stdout",
          "text": [
            "I apologize for the confusion. The error is due to the incorrect definition of the pipe's geometry. In a 3D simulation, we need to define the pipe as a cylindrical surface rather than a line. Here is the corrected .geo file:\n",
            "\n",
            "//BEGIN_GEO\n",
            "lc = 1; // characteristic length\n",
            "Length = 6; // length of the pipe\n",
            "Radius = 0.030165; // radius of the pipe\n",
            "\n",
            "// Define the points\n",
            "Point(1) = {0, 0, 0, lc}; // inlet center\n",
            "Point(2) = {0, 0, Length, lc}; // outlet center\n",
            "Point(3) = {Radius, 0, 0, lc}; // point on the pipe wall at inlet\n",
            "Point(4) = {Radius, 0, Length, lc}; // point on the pipe wall at outlet\n",
            "\n",
            "// Define the lines\n",
            "Circle(1) = {1, 3, 4}; // pipe wall\n",
            "Line(2) = {3, 4}; // pipe axis\n",
            "\n",
            "// Define the surfaces\n",
            "Line Loop(1) = {1, 2};\n",
            "Ruled Surface(1) = {1}; // pipe wall\n",
            "\n",
            "// Define the volume\n",
            "Surface Loop(1) = {1};\n",
            "Volume(1) = {1}; // fluid volume inside the pipe\n",
            "\n",
            "// Define physical groups\n",
            "Physical Surface(\"Inlet\") = {1};\n",
            "Physical Surface(\"Outlet\") = {2};\n",
            "Physical Surface(\"Wall\") = {1};\n",
            "Physical Volume(\"FluidDomain\") = {1};\n",
            "//END_GEO\n"
          ]
        }
      ]
    },
    {
      "cell_type": "code",
      "execution_count": null,
      "id": "09ceab11",
      "metadata": {
        "colab": {
          "base_uri": "https://localhost:8080/"
        },
        "id": "09ceab11",
        "outputId": "b70ddf9a-432f-4076-e3e2-1174d4e5d88a"
      },
      "outputs": [
        {
          "output_type": "stream",
          "name": "stdout",
          "text": [
            "CFD_Pipe.geo file saved\n",
            "Visualize .geo files with GMSH\n"
          ]
        }
      ],
      "source": [
        "extract_and_save_geo_file(last_response)"
      ]
    },
    {
      "cell_type": "code",
      "execution_count": null,
      "id": "2b30ed19",
      "metadata": {
        "colab": {
          "base_uri": "https://localhost:8080/"
        },
        "id": "2b30ed19",
        "outputId": "da68a8ae-fe31-4f68-e822-146dedb0b15d"
      },
      "outputs": [
        {
          "output_type": "stream",
          "name": "stdout",
          "text": [
            "Creating MESH...\n",
            " \n",
            "CFD_Pipe.msh saved\n",
            "You can visualize .msh files with GMSH, Paraview or, within this notebook, with plot_grid()\n"
          ]
        }
      ],
      "source": [
        "generate_mesh(Mesh_Min_Size = 0.03, Mesh_Max_Size = 0.2)"
      ]
    }
  ],
  "metadata": {
    "kernelspec": {
      "display_name": "Python 3 (ipykernel)",
      "language": "python",
      "name": "python3"
    },
    "language_info": {
      "codemirror_mode": {
        "name": "ipython",
        "version": 3
      },
      "file_extension": ".py",
      "mimetype": "text/x-python",
      "name": "python",
      "nbconvert_exporter": "python",
      "pygments_lexer": "ipython3",
      "version": "3.11.5"
    },
    "colab": {
      "provenance": []
    }
  },
  "nbformat": 4,
  "nbformat_minor": 5
}